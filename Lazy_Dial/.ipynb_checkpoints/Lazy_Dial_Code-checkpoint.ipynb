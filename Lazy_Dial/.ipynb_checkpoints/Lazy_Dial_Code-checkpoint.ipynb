{
 "cells": [
  {
   "cell_type": "markdown",
   "metadata": {},
   "source": [
    "### Problem Context\n",
    "We wish to compute the laziest way to dial given n-digit number on a standard push button telephone\n",
    "(with 12 keys) using two fingers. We assume that the two fingers start out on the * and # keys, and that the\n",
    "effort required to move a finger from one button to another is proportional to the Euclidean distance\n",
    "between them (assume that the digit \"1\" is at position (0, 0), and the digit \"5\" at position (1,1)). Design an\n",
    "algorithm in python that computes the method of dialing that involves moving your fingers the smallest\n",
    "amount of total distance\n",
    "\n",
    "The telephone keypad format that we have assumed looks like this:  \n",
    "![Key pad Image](key_pad.png)"
   ]
  },
  {
   "cell_type": "markdown",
   "metadata": {},
   "source": [
    "Let's assign cartesian coordinates to all keys on the telephone. We will store this as a dictionary of Tuples, where each tuple stores coordinates for that key in the form **(x,y)** For e.g. coordinates of \"**1**\" will be stored as **(0,0)**"
   ]
  },
  {
   "cell_type": "code",
   "execution_count": null,
   "metadata": {},
   "outputs": [],
   "source": [
    "coordinates = {'1': (0,0),\n",
    "              '2': (1,0),\n",
    "              '3': (2,0),\n",
    "              '4': (0,1),\n",
    "              '5': (1,1),\n",
    "              '6': (2,1),\n",
    "              '7': (0,2),\n",
    "              '8': (1,2),\n",
    "              '9': (2,2),\n",
    "              '*': (0,3),\n",
    "              '0': (1,3),\n",
    "              '#': (2,3)}"
   ]
  },
  {
   "cell_type": "markdown",
   "metadata": {},
   "source": [
    "#### Creating function for computing Euclidean distance"
   ]
  },
  {
   "cell_type": "code",
   "execution_count": null,
   "metadata": {},
   "outputs": [],
   "source": [
    "import math\n",
    "from ast import literal_eval\n",
    "def distance(key1: str, key2: str) -> float:\n",
    "    \"\"\"\n",
    "    Returns the euclidean distance between two given keys on the push-button telephone\n",
    "    Euclidean distance is computed as the pythagoras distance between two points on cartesian coordinate system\n",
    "    \"\"\"\n",
    "    x1, y1 = coordinates.get(key1)\n",
    "    x2, y2 = coordinates.get(key2)\n",
    "    \n",
    "    return math.sqrt((x1-x2)**2 + (y1-y2)**2)"
   ]
  },
  {
   "cell_type": "markdown",
   "metadata": {},
   "source": [
    "## Designing the algorithm\n",
    "\n",
    "##### Algorithm 1\n",
    "A basic way to approach this problem is to be locally greedy and choose the finger resulting into a minimum distance for the next digit, based upon the current position of left and right fingers. For e.g. given we start at (\\*, #) and the next digit to press is **1**, the distance of pressing it with left finger is **3** units, whereas for right finger it is **3.6**. Therfore, the locally greedy approach says we use the left finger to press this digit. After that, we continue in similar fashion for rest of the digits  \n",
    "**Time Complexity**: O(n)\n",
    "**Space Complexity**: O(1)\n",
    "\n",
    "However, the above approach results into a higher total distance in cases where you can strategically choose a high distance finger for one digit and still end up with an overall lower total distance traversed. For e.g. If we are dialling **\"583\"**  \n",
    "**Output based on algorithm 1**: (5.47, \\[('\\*','#'),('5','#'),('8','#'),('3','#')\\]) \n",
    "\n",
    "Whereas, if we try minimizing the overall cost, we can create a different and better outcome:  \n",
    "**Output based on overall cost minimization**: (5.06, \\[('\\*','#'),('5','#'),('5','8'),('3','8')\\])\n",
    "\n",
    "Based on the problem statement, we need to compute the smallest amount of total distance. Therefore, I have to design an algorithm to return **output 2** instead of **output 1**\n",
    "\n",
    "##### Algorithm 2\n",
    "An easiest way to minimize overall cost is to programatically generate all possible paths, compute the overall distance for each path, and choose the one with minimum distance. As there are two possible choices (left or right finger to dial) at every digit on the telephone number, the time complexity for this algorithm would be **O(n.2<sup>n</sup>)**  \n",
    "**Time Complexity**: O(n.2<sup>n</sup>)  \n",
    "**Space Complexity**: O(2<sup>n</sup>)"
   ]
  },
  {
   "cell_type": "code",
   "execution_count": null,
   "metadata": {},
   "outputs": [],
   "source": [
    "# Let's write a function which returns the computed distance & finger positions for a given digit,\n",
    "# positions of left and right finger, and which finger to use for dialling the digit\n",
    "def compute_path(digit: str, key1: str, key2: str, finger: str):# -> tuple[float,list[tuple[str]]]\n",
    "    \"\"\"\n",
    "    Returns the distance as float and path in form of list of tuples\n",
    "    digit: the digit/key to be dialled\n",
    "    key1: position of left finger\n",
    "    key2: position of right finger\n",
    "    finger: l/r (l for left, and r for right)\n",
    "    For e.g.\n",
    "    compute_path('4',('1','3'),'l') would return -> (1.0,[('4','3')])\n",
    "    \"\"\"\n",
    "    if(finger=='l'):\n",
    "        return (distance(key1, digit),(digit,key2))\n",
    "    else:\n",
    "        return (distance(key2, digit),(key1,digit))"
   ]
  },
  {
   "cell_type": "code",
   "execution_count": null,
   "metadata": {},
   "outputs": [],
   "source": [
    "# Generating all possible combinations for a given string of length \"n\"\n",
    "def generate_all_comb(set: set, n: int) -> list: \n",
    "    \"\"\"\n",
    "    This is a wrapper function calling the main recursive function to generate the possible combinations\n",
    "    set: the set of different possible choices. In our case, it is ['l','r']\n",
    "    n: the length of string\n",
    "    \"\"\"\n",
    "    a = len(set)\n",
    "    output = []\n",
    "    generate_all_comb_rec(set, \"\", a, n, output)\n",
    "    return output\n",
    "\n",
    "def generate_all_comb_rec(set: set, prefix: str, a: int, n: int, output: list) -> None: \n",
    "    \"\"\"\n",
    "    This function recursively generates as possible combinations by adding each element of the set to the prefix\n",
    "    and modifies the passed list output to contain those combinations\n",
    "    set: the set of different possible choices\n",
    "    prefix: what to add to each element of set\n",
    "    a: length of the set\n",
    "    n: length on string\n",
    "    output: list to be modified. After function call, all possible combinations would be appended to this list\n",
    "    \"\"\"\n",
    "    # Base case: n is 0, \n",
    "    # return prefix \n",
    "    if (n == 0) : \n",
    "        return output.append(prefix)\n",
    "         \n",
    "    for i in range(a): \n",
    "  \n",
    "        # Next character of input added \n",
    "        newPrefix = prefix + set[i] \n",
    "          \n",
    "        # n is decreased, because  \n",
    "        # we have added a new character \n",
    "        generate_all_comb_rec(set, newPrefix, a, n - 1, output)"
   ]
  },
  {
   "cell_type": "code",
   "execution_count": null,
   "metadata": {},
   "outputs": [],
   "source": [
    "def compute_laziest_path(telephone_number: str): # -> tuple[float,list[tuple[str]]]\n",
    "    \"\"\"\n",
    "    This function takes a valid telephone number string as input and returns the minimum overall distance\n",
    "    as well as the path taken to reach that minimum distance. It uses \"Algorithm 2\" explained above.\n",
    "    \"\"\"\n",
    "    n = len(telephone_number)\n",
    "    # Assigning a default result having higher cost than any path for a given string of length n\n",
    "    result = (4*n,[\"invalid path\"])\n",
    "    # Initializing starting position\n",
    "    start_pos = ('*','#')\n",
    "    # Iterating through all 2^n combinations\n",
    "    for comb in generate_all_comb(['l','r'],n):\n",
    "        D = 0\n",
    "        Path = [start_pos]\n",
    "        pos = start_pos\n",
    "        for i in range(n):\n",
    "            # With each digit dialed, we store the results into step\n",
    "            step = compute_path(telephone_number[i],*pos,comb[i])\n",
    "            # Add the distance for the current digit dialled\n",
    "            D += step[0]\n",
    "            # Update the position of fingers\n",
    "            pos = step[1]\n",
    "            # Append the current position of fingers to the path\n",
    "            Path.append(pos)\n",
    "        # If the current combination distance is lower than the result distance, then update the result variable\n",
    "        if(D < result[0]):\n",
    "            result = (D, Path)\n",
    "    \n",
    "    return result"
   ]
  },
  {
   "cell_type": "code",
   "execution_count": null,
   "metadata": {},
   "outputs": [],
   "source": [
    "compute_laziest_path('583')"
   ]
  },
  {
   "cell_type": "markdown",
   "metadata": {},
   "source": [
    "##### Thinking Further\n",
    "While this gives us the right answer, this is computationally expensive and if we look closely, we are repeating many calculations multiple times. For e.g. in two different combinations \"llr\" and \"lll\", we are essentially doing the same path and distance computations until the first two digits.\n",
    "\n",
    "To optimize this, we can utilize dynamic programming and store partial paths & distance values to fetch later and use again. This would result into a higher space complexity but lower time complexity & computation time.\n",
    "\n",
    "##### Algorithm 3\n",
    "Cache paths & distances at the tree roots & use them at higher level in the branches to save up on computation time. Additionally, we can also pre-compute & save distances between any possible combination of two-keys to save computation time on distance calculation.  \n",
    "**Time Complexity**: O(2<sup>n</sup>)  \n",
    "**Space Complexity**: O(2<sup>n</sup>) (It also stores a KxK length dictionary which grows at O(k<sup>2</sup>) but that would become insignificant compared to the Paths dictionary growing at O(2<sup>n</sup>))"
   ]
  },
  {
   "cell_type": "code",
   "execution_count": null,
   "metadata": {},
   "outputs": [],
   "source": [
    "# Creating an empty dictionary to store distance values\n",
    "computed_dist = {}\n",
    "# Looping through all keys to compute and add key combinations as dictionary key, and their distance as values\n",
    "for key1 in coordinates.keys():\n",
    "    for key2 in coordinates.keys():\n",
    "        computed_dist[(key1,key2)] = distance(key1,key2)"
   ]
  },
  {
   "cell_type": "code",
   "execution_count": null,
   "metadata": {},
   "outputs": [],
   "source": [
    "# Similar to the previous compute_path function, but this one does not compute the distances. Instead it just\n",
    "# fetches them from a pre-computed dictionary\n",
    "def compute_path_new(digit: str, key1: str, key2: str, finger: str):# -> tuple[float,list[tuple[str]]]\n",
    "    \"\"\"\n",
    "    Returns the distance as float and path in form of list of tuples\n",
    "    digit: the digit/key to be dialled\n",
    "    key1: position of left finger\n",
    "    key2: position of right finger\n",
    "    finger: l/r (l for left, and r for right)\n",
    "    For e.g.\n",
    "    compute_path_new('4',('1','3'),'l') would return -> (1.0,[('4','3')])\n",
    "    \"\"\"\n",
    "    if(finger=='l'):\n",
    "        return (computed_dist.get((key1, digit)),(digit,key2))\n",
    "    else:\n",
    "        return (computed_dist.get((key2, digit)),(key1,digit))"
   ]
  },
  {
   "cell_type": "code",
   "execution_count": null,
   "metadata": {},
   "outputs": [],
   "source": [
    "def compute_laziest_path_new(telephone_number: str): # -> tuple[float,list[tuple[str]]]\n",
    "    \"\"\"\n",
    "    This function takes a valid telephone number string as input and returns the minimum overall distance\n",
    "    as well as the path taken to reach that minimum distance, similar to function \"compute_laziest_path\".\n",
    "    However, it uses \"Algorithm 3\" utilizing dynamic programming to re-use previously computed results.\n",
    "    \"\"\"\n",
    "    # Initializing dictionary having path as associated cost. \n",
    "    # Initial path is starting finger positions with distance 0\n",
    "    Path_dist = {\"[('*','#')]\": 0.0}\n",
    "    # Iterating through every digit of the phone number\n",
    "    for digit in telephone_number:\n",
    "        # Creating an empty dictionary to store paths at every digit\n",
    "        temp_dict = {}\n",
    "        # Iterating through the paths created unitl previous digit and adding left & right branches\n",
    "        for path in Path_dist.keys():\n",
    "            path_till_here = literal_eval(path)\n",
    "            dist_till_here = Path_dist.get(path)\n",
    "            for side in ['l','r']:\n",
    "                temp_result = compute_path_new(digit,*(path_till_here[-1]),side)\n",
    "                new_path = path_till_here + [temp_result[1]]\n",
    "                new_dist = dist_till_here + temp_result[0]\n",
    "                temp_dict[str(new_path)] = new_dist\n",
    "        Path_dist = temp_dict.copy()\n",
    "    min_D = min(Path_dist.values())\n",
    "    min_path = [literal_eval(key) for key in Path_dist.keys() if Path_dist[key]==min(Path_dist.values())]\n",
    "    return (min_D,min_path[0])"
   ]
  },
  {
   "cell_type": "code",
   "execution_count": null,
   "metadata": {},
   "outputs": [],
   "source": [
    "def main():\n",
    "    trigger = 'Y'\n",
    "    while(trigger!='N'):\n",
    "        input_tel_num = input(\"Enter a valid number made up of 12 telephone keys: (Press 'N' to exit)\\n\")\n",
    "        if(input_tel_num == 'N'):\n",
    "            trigger = 'N'\n",
    "        else:\n",
    "            print(compute_laziest_path_new(input_tel_num))\n",
    "            \n",
    "if __name__ == \"__main__\":\n",
    "    main()"
   ]
  }
 ],
 "metadata": {
  "kernelspec": {
   "display_name": "Python 3",
   "language": "python",
   "name": "python3"
  },
  "language_info": {
   "codemirror_mode": {
    "name": "ipython",
    "version": 3
   },
   "file_extension": ".py",
   "mimetype": "text/x-python",
   "name": "python",
   "nbconvert_exporter": "python",
   "pygments_lexer": "ipython3",
   "version": "3.8.3"
  }
 },
 "nbformat": 4,
 "nbformat_minor": 4
}
